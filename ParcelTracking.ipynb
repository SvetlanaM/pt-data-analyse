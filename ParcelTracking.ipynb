{
 "cells": [
  {
   "cell_type": "code",
   "execution_count": null,
   "metadata": {},
   "outputs": [],
   "source": [
    "import os\n",
    "import pandas as pd\n",
    "import numpy as np\n",
    "from matplotlib import pyplot as plt\n",
    "%matplotlib inline \n",
    "pd.options.mode.chained_assignment = None  # default='warn'\n",
    "from datetime import datetime\n",
    "from operator import itemgetter\n",
    "from itertools import groupby\n",
    "import collections"
   ]
  },
  {
   "cell_type": "code",
   "execution_count": null,
   "metadata": {},
   "outputs": [],
   "source": [
    "#import dataset\n",
    "pt = pd.read_csv('mall_pt/csv/providers.csv', sep=',')"
   ]
  },
  {
   "cell_type": "code",
   "execution_count": null,
   "metadata": {},
   "outputs": [],
   "source": [
    "pt.head()"
   ]
  },
  {
   "cell_type": "code",
   "execution_count": 5,
   "metadata": {},
   "outputs": [
    {
     "data": {
      "text/plain": [
       "(2057399, 5)"
      ]
     },
     "execution_count": 5,
     "metadata": {},
     "output_type": "execute_result"
    }
   ],
   "source": [
    "#exploring dataset\n",
    "pt.shape"
   ]
  },
  {
   "cell_type": "code",
   "execution_count": 6,
   "metadata": {},
   "outputs": [
    {
     "name": "stdout",
     "output_type": "stream",
     "text": [
      "<class 'pandas.core.frame.DataFrame'>\n",
      "RangeIndex: 2057399 entries, 0 to 2057398\n",
      "Data columns (total 5 columns):\n",
      "tracking_id      int64\n",
      "date             object\n",
      "status           object\n",
      "mapped_status    object\n",
      "provider         object\n",
      "dtypes: int64(1), object(4)\n",
      "memory usage: 78.5+ MB\n"
     ]
    }
   ],
   "source": [
    "pt.info()"
   ]
  },
  {
   "cell_type": "code",
   "execution_count": 7,
   "metadata": {},
   "outputs": [
    {
     "data": {
      "text/html": [
       "<div>\n",
       "<style scoped>\n",
       "    .dataframe tbody tr th:only-of-type {\n",
       "        vertical-align: middle;\n",
       "    }\n",
       "\n",
       "    .dataframe tbody tr th {\n",
       "        vertical-align: top;\n",
       "    }\n",
       "\n",
       "    .dataframe thead th {\n",
       "        text-align: right;\n",
       "    }\n",
       "</style>\n",
       "<table border=\"1\" class=\"dataframe\">\n",
       "  <thead>\n",
       "    <tr style=\"text-align: right;\">\n",
       "      <th></th>\n",
       "      <th>tracking_id</th>\n",
       "    </tr>\n",
       "  </thead>\n",
       "  <tbody>\n",
       "    <tr>\n",
       "      <th>count</th>\n",
       "      <td>2.057399e+06</td>\n",
       "    </tr>\n",
       "    <tr>\n",
       "      <th>mean</th>\n",
       "      <td>6.625531e+05</td>\n",
       "    </tr>\n",
       "    <tr>\n",
       "      <th>std</th>\n",
       "      <td>3.316196e+05</td>\n",
       "    </tr>\n",
       "    <tr>\n",
       "      <th>min</th>\n",
       "      <td>5.301900e+04</td>\n",
       "    </tr>\n",
       "    <tr>\n",
       "      <th>25%</th>\n",
       "      <td>4.302200e+05</td>\n",
       "    </tr>\n",
       "    <tr>\n",
       "      <th>50%</th>\n",
       "      <td>4.372770e+05</td>\n",
       "    </tr>\n",
       "    <tr>\n",
       "      <th>75%</th>\n",
       "      <td>9.619490e+05</td>\n",
       "    </tr>\n",
       "    <tr>\n",
       "      <th>max</th>\n",
       "      <td>1.403023e+06</td>\n",
       "    </tr>\n",
       "  </tbody>\n",
       "</table>\n",
       "</div>"
      ],
      "text/plain": [
       "        tracking_id\n",
       "count  2.057399e+06\n",
       "mean   6.625531e+05\n",
       "std    3.316196e+05\n",
       "min    5.301900e+04\n",
       "25%    4.302200e+05\n",
       "50%    4.372770e+05\n",
       "75%    9.619490e+05\n",
       "max    1.403023e+06"
      ]
     },
     "execution_count": 7,
     "metadata": {},
     "output_type": "execute_result"
    }
   ],
   "source": [
    "pt.describe()"
   ]
  },
  {
   "cell_type": "code",
   "execution_count": 8,
   "metadata": {},
   "outputs": [
    {
     "data": {
      "text/plain": [
       "tracking_id          0\n",
       "date                60\n",
       "status              60\n",
       "mapped_status    34867\n",
       "provider             0\n",
       "dtype: int64"
      ]
     },
     "execution_count": 8,
     "metadata": {},
     "output_type": "execute_result"
    }
   ],
   "source": [
    "pt.isnull().sum()"
   ]
  },
  {
   "cell_type": "code",
   "execution_count": null,
   "metadata": {},
   "outputs": [],
   "source": [
    "#find empty dates\n",
    "pt[pt[\"date\"].isnull() == True]"
   ]
  },
  {
   "cell_type": "code",
   "execution_count": 10,
   "metadata": {},
   "outputs": [
    {
     "data": {
      "text/plain": [
       "60"
      ]
     },
     "execution_count": 10,
     "metadata": {},
     "output_type": "execute_result"
    }
   ],
   "source": [
    "len(pt[pt[\"date\"].isnull() == True])"
   ]
  },
  {
   "cell_type": "code",
   "execution_count": 11,
   "metadata": {},
   "outputs": [],
   "source": [
    "#remove rows with empty date\n",
    "pt = pt.dropna(subset=['date'], how='all')"
   ]
  },
  {
   "cell_type": "code",
   "execution_count": 12,
   "metadata": {},
   "outputs": [
    {
     "data": {
      "text/plain": [
       "0"
      ]
     },
     "execution_count": 12,
     "metadata": {},
     "output_type": "execute_result"
    }
   ],
   "source": [
    "len(pt[pt[\"date\"].isnull() == True])"
   ]
  },
  {
   "cell_type": "code",
   "execution_count": 13,
   "metadata": {},
   "outputs": [],
   "source": [
    "#convert date to our datetime format\n",
    "def update_date(date):\n",
    "    new_date = datetime.strptime(date, '%Y-%m-%d %H:%M:%S')\n",
    "    return new_date"
   ]
  },
  {
   "cell_type": "code",
   "execution_count": 14,
   "metadata": {},
   "outputs": [],
   "source": [
    "clean_pt = pt.copy(deep = True)"
   ]
  },
  {
   "cell_type": "code",
   "execution_count": 15,
   "metadata": {},
   "outputs": [
    {
     "data": {
      "text/html": [
       "<div>\n",
       "<style scoped>\n",
       "    .dataframe tbody tr th:only-of-type {\n",
       "        vertical-align: middle;\n",
       "    }\n",
       "\n",
       "    .dataframe tbody tr th {\n",
       "        vertical-align: top;\n",
       "    }\n",
       "\n",
       "    .dataframe thead th {\n",
       "        text-align: right;\n",
       "    }\n",
       "</style>\n",
       "<table border=\"1\" class=\"dataframe\">\n",
       "  <thead>\n",
       "    <tr style=\"text-align: right;\">\n",
       "      <th></th>\n",
       "      <th>tracking_id</th>\n",
       "      <th>date</th>\n",
       "      <th>status</th>\n",
       "      <th>mapped_status</th>\n",
       "      <th>provider</th>\n",
       "    </tr>\n",
       "  </thead>\n",
       "  <tbody>\n",
       "    <tr>\n",
       "      <th>0</th>\n",
       "      <td>1363206</td>\n",
       "      <td>2017-12-13 16:29:27</td>\n",
       "      <td>Balíček jsme úspěšně doručili</td>\n",
       "      <td>Doručeno</td>\n",
       "      <td>dpd</td>\n",
       "    </tr>\n",
       "    <tr>\n",
       "      <th>1</th>\n",
       "      <td>1363207</td>\n",
       "      <td>2017-12-13 13:38:48</td>\n",
       "      <td>Balíček jsme úspěšně doručili</td>\n",
       "      <td>Doručeno</td>\n",
       "      <td>dpd</td>\n",
       "    </tr>\n",
       "    <tr>\n",
       "      <th>2</th>\n",
       "      <td>1363208</td>\n",
       "      <td>2017-12-13 12:08:33</td>\n",
       "      <td>Balíček jsme úspěšně doručili</td>\n",
       "      <td>Doručeno</td>\n",
       "      <td>dpd</td>\n",
       "    </tr>\n",
       "  </tbody>\n",
       "</table>\n",
       "</div>"
      ],
      "text/plain": [
       "   tracking_id                 date                         status  \\\n",
       "0      1363206  2017-12-13 16:29:27  Balíček jsme úspěšně doručili   \n",
       "1      1363207  2017-12-13 13:38:48  Balíček jsme úspěšně doručili   \n",
       "2      1363208  2017-12-13 12:08:33  Balíček jsme úspěšně doručili   \n",
       "\n",
       "  mapped_status provider  \n",
       "0      Doručeno      dpd  \n",
       "1      Doručeno      dpd  \n",
       "2      Doručeno      dpd  "
      ]
     },
     "execution_count": 15,
     "metadata": {},
     "output_type": "execute_result"
    }
   ],
   "source": [
    "clean_pt.head(3)"
   ]
  },
  {
   "cell_type": "code",
   "execution_count": 16,
   "metadata": {},
   "outputs": [],
   "source": [
    "clean_pt[\"date\"] = clean_pt[\"date\"].apply(update_date)"
   ]
  },
  {
   "cell_type": "code",
   "execution_count": 17,
   "metadata": {},
   "outputs": [
    {
     "data": {
      "text/html": [
       "<div>\n",
       "<style scoped>\n",
       "    .dataframe tbody tr th:only-of-type {\n",
       "        vertical-align: middle;\n",
       "    }\n",
       "\n",
       "    .dataframe tbody tr th {\n",
       "        vertical-align: top;\n",
       "    }\n",
       "\n",
       "    .dataframe thead th {\n",
       "        text-align: right;\n",
       "    }\n",
       "</style>\n",
       "<table border=\"1\" class=\"dataframe\">\n",
       "  <thead>\n",
       "    <tr style=\"text-align: right;\">\n",
       "      <th></th>\n",
       "      <th>tracking_id</th>\n",
       "      <th>date</th>\n",
       "      <th>status</th>\n",
       "      <th>mapped_status</th>\n",
       "      <th>provider</th>\n",
       "    </tr>\n",
       "  </thead>\n",
       "  <tbody>\n",
       "    <tr>\n",
       "      <th>0</th>\n",
       "      <td>1363206</td>\n",
       "      <td>2017-12-13 16:29:27</td>\n",
       "      <td>Balíček jsme úspěšně doručili</td>\n",
       "      <td>Doručeno</td>\n",
       "      <td>dpd</td>\n",
       "    </tr>\n",
       "    <tr>\n",
       "      <th>1</th>\n",
       "      <td>1363207</td>\n",
       "      <td>2017-12-13 13:38:48</td>\n",
       "      <td>Balíček jsme úspěšně doručili</td>\n",
       "      <td>Doručeno</td>\n",
       "      <td>dpd</td>\n",
       "    </tr>\n",
       "    <tr>\n",
       "      <th>2</th>\n",
       "      <td>1363208</td>\n",
       "      <td>2017-12-13 12:08:33</td>\n",
       "      <td>Balíček jsme úspěšně doručili</td>\n",
       "      <td>Doručeno</td>\n",
       "      <td>dpd</td>\n",
       "    </tr>\n",
       "    <tr>\n",
       "      <th>3</th>\n",
       "      <td>1363209</td>\n",
       "      <td>2017-12-13 14:06:00</td>\n",
       "      <td>Balíček jsme úspěšně doručili</td>\n",
       "      <td>Doručeno</td>\n",
       "      <td>dpd</td>\n",
       "    </tr>\n",
       "    <tr>\n",
       "      <th>4</th>\n",
       "      <td>1363210</td>\n",
       "      <td>2017-12-13 15:14:08</td>\n",
       "      <td>Balíček jsme úspěšně doručili</td>\n",
       "      <td>Doručeno</td>\n",
       "      <td>dpd</td>\n",
       "    </tr>\n",
       "  </tbody>\n",
       "</table>\n",
       "</div>"
      ],
      "text/plain": [
       "   tracking_id                date                         status  \\\n",
       "0      1363206 2017-12-13 16:29:27  Balíček jsme úspěšně doručili   \n",
       "1      1363207 2017-12-13 13:38:48  Balíček jsme úspěšně doručili   \n",
       "2      1363208 2017-12-13 12:08:33  Balíček jsme úspěšně doručili   \n",
       "3      1363209 2017-12-13 14:06:00  Balíček jsme úspěšně doručili   \n",
       "4      1363210 2017-12-13 15:14:08  Balíček jsme úspěšně doručili   \n",
       "\n",
       "  mapped_status provider  \n",
       "0      Doručeno      dpd  \n",
       "1      Doručeno      dpd  \n",
       "2      Doručeno      dpd  \n",
       "3      Doručeno      dpd  \n",
       "4      Doručeno      dpd  "
      ]
     },
     "execution_count": 17,
     "metadata": {},
     "output_type": "execute_result"
    }
   ],
   "source": [
    "clean_pt.head()"
   ]
  },
  {
   "cell_type": "code",
   "execution_count": 18,
   "metadata": {},
   "outputs": [
    {
     "name": "stdout",
     "output_type": "stream",
     "text": [
      "<class 'pandas.core.frame.DataFrame'>\n",
      "Int64Index: 2057339 entries, 0 to 2057398\n",
      "Data columns (total 5 columns):\n",
      "tracking_id      int64\n",
      "date             datetime64[ns]\n",
      "status           object\n",
      "mapped_status    object\n",
      "provider         object\n",
      "dtypes: datetime64[ns](1), int64(1), object(3)\n",
      "memory usage: 94.2+ MB\n"
     ]
    }
   ],
   "source": [
    "clean_pt.info()"
   ]
  },
  {
   "cell_type": "code",
   "execution_count": 19,
   "metadata": {},
   "outputs": [],
   "source": [
    "tracking_id = clean_pt[[\"tracking_id\"]].groupby(clean_pt[\"tracking_id\"]).count().sort_values(by='tracking_id', ascending=False)"
   ]
  },
  {
   "cell_type": "code",
   "execution_count": null,
   "metadata": {},
   "outputs": [],
   "source": [
    "tracking_id"
   ]
  },
  {
   "cell_type": "code",
   "execution_count": 21,
   "metadata": {},
   "outputs": [],
   "source": [
    "#remove duplicates\n",
    "no_pt_dup = clean_pt.drop_duplicates(['tracking_id', 'date', 'status'], inplace=False)"
   ]
  },
  {
   "cell_type": "code",
   "execution_count": null,
   "metadata": {},
   "outputs": [],
   "source": [
    "no_pt_dup.sort_values(by='tracking_id')"
   ]
  },
  {
   "cell_type": "code",
   "execution_count": 23,
   "metadata": {},
   "outputs": [],
   "source": [
    "tracking_id_no_dup = no_pt_dup[[\"tracking_id\"]].groupby(no_pt_dup[\"tracking_id\"]).count().sort_values(by='tracking_id', ascending=False)"
   ]
  },
  {
   "cell_type": "code",
   "execution_count": 24,
   "metadata": {},
   "outputs": [],
   "source": [
    "tracking_id_1 = tracking_id_no_dup[tracking_id_no_dup[\"tracking_id\"].values == 1]"
   ]
  },
  {
   "cell_type": "code",
   "execution_count": 25,
   "metadata": {},
   "outputs": [
    {
     "data": {
      "text/plain": [
       "array([82, 81, 77, ...,  1,  1,  1])"
      ]
     },
     "execution_count": 25,
     "metadata": {},
     "output_type": "execute_result"
    }
   ],
   "source": [
    "tracking_id_no_dup[\"tracking_id\"].values"
   ]
  },
  {
   "cell_type": "code",
   "execution_count": 26,
   "metadata": {},
   "outputs": [],
   "source": [
    "tracking_id_1.to_csv('mall_pt/csv/1_state.csv', encoding='utf-8')"
   ]
  },
  {
   "cell_type": "code",
   "execution_count": 27,
   "metadata": {},
   "outputs": [],
   "source": [
    "tracking_id_no_dup = tracking_id_no_dup[tracking_id_no_dup[\"tracking_id\"].values > 1]"
   ]
  },
  {
   "cell_type": "code",
   "execution_count": null,
   "metadata": {},
   "outputs": [],
   "source": [
    "tracking_id_no_dup"
   ]
  },
  {
   "cell_type": "code",
   "execution_count": 29,
   "metadata": {},
   "outputs": [],
   "source": [
    "tracking_id_no_dup.to_csv('mall_pt/csv/duplicate_ids.csv', encoding='utf-8')"
   ]
  },
  {
   "cell_type": "code",
   "execution_count": 30,
   "metadata": {},
   "outputs": [],
   "source": [
    "tracking_id_same_status = no_pt_dup[[\"status\"]].groupby([no_pt_dup[\"status\"], no_pt_dup[\"tracking_id\"], no_pt_dup[\"provider\"]]).count()"
   ]
  },
  {
   "cell_type": "code",
   "execution_count": 31,
   "metadata": {},
   "outputs": [],
   "source": [
    "same_statuses = tracking_id_same_status[tracking_id_same_status[\"status\"] > 1]"
   ]
  },
  {
   "cell_type": "code",
   "execution_count": null,
   "metadata": {},
   "outputs": [],
   "source": [
    "same_statuses"
   ]
  },
  {
   "cell_type": "code",
   "execution_count": 33,
   "metadata": {},
   "outputs": [],
   "source": [
    "same_statuses.to_csv('mall_pt/csv/same_statuses.csv', encoding='utf-8')"
   ]
  },
  {
   "cell_type": "code",
   "execution_count": 34,
   "metadata": {},
   "outputs": [],
   "source": [
    "full_dup_per_id = no_pt_dup[no_pt_dup[\"tracking_id\"] == 1294084]"
   ]
  },
  {
   "cell_type": "code",
   "execution_count": 35,
   "metadata": {},
   "outputs": [
    {
     "data": {
      "text/html": [
       "<div>\n",
       "<style scoped>\n",
       "    .dataframe tbody tr th:only-of-type {\n",
       "        vertical-align: middle;\n",
       "    }\n",
       "\n",
       "    .dataframe tbody tr th {\n",
       "        vertical-align: top;\n",
       "    }\n",
       "\n",
       "    .dataframe thead th {\n",
       "        text-align: right;\n",
       "    }\n",
       "</style>\n",
       "<table border=\"1\" class=\"dataframe\">\n",
       "  <thead>\n",
       "    <tr style=\"text-align: right;\">\n",
       "      <th></th>\n",
       "      <th>tracking_id</th>\n",
       "      <th>date</th>\n",
       "      <th>status</th>\n",
       "      <th>mapped_status</th>\n",
       "      <th>provider</th>\n",
       "    </tr>\n",
       "  </thead>\n",
       "  <tbody>\n",
       "    <tr>\n",
       "      <th>1951769</th>\n",
       "      <td>1294084</td>\n",
       "      <td>2017-12-12 17:51:30</td>\n",
       "      <td>Převážení/vážení</td>\n",
       "      <td>Převzato dopravcem</td>\n",
       "      <td>ppl</td>\n",
       "    </tr>\n",
       "    <tr>\n",
       "      <th>1951770</th>\n",
       "      <td>1294084</td>\n",
       "      <td>2017-12-13 16:10:09</td>\n",
       "      <td>Příjem na centrálu</td>\n",
       "      <td>Převzato dopravcem</td>\n",
       "      <td>ppl</td>\n",
       "    </tr>\n",
       "    <tr>\n",
       "      <th>1951771</th>\n",
       "      <td>1294084</td>\n",
       "      <td>2017-12-13 16:11:05</td>\n",
       "      <td>Příjem na centrálu</td>\n",
       "      <td>Převzato dopravcem</td>\n",
       "      <td>ppl</td>\n",
       "    </tr>\n",
       "    <tr>\n",
       "      <th>1951772</th>\n",
       "      <td>1294084</td>\n",
       "      <td>2017-12-13 16:11:39</td>\n",
       "      <td>Příjem na centrálu</td>\n",
       "      <td>Převzato dopravcem</td>\n",
       "      <td>ppl</td>\n",
       "    </tr>\n",
       "    <tr>\n",
       "      <th>1951773</th>\n",
       "      <td>1294084</td>\n",
       "      <td>2017-12-13 16:12:35</td>\n",
       "      <td>Příjem na centrálu</td>\n",
       "      <td>Převzato dopravcem</td>\n",
       "      <td>ppl</td>\n",
       "    </tr>\n",
       "  </tbody>\n",
       "</table>\n",
       "</div>"
      ],
      "text/plain": [
       "         tracking_id                date              status  \\\n",
       "1951769      1294084 2017-12-12 17:51:30    Převážení/vážení   \n",
       "1951770      1294084 2017-12-13 16:10:09  Příjem na centrálu   \n",
       "1951771      1294084 2017-12-13 16:11:05  Příjem na centrálu   \n",
       "1951772      1294084 2017-12-13 16:11:39  Příjem na centrálu   \n",
       "1951773      1294084 2017-12-13 16:12:35  Příjem na centrálu   \n",
       "\n",
       "              mapped_status provider  \n",
       "1951769  Převzato dopravcem      ppl  \n",
       "1951770  Převzato dopravcem      ppl  \n",
       "1951771  Převzato dopravcem      ppl  \n",
       "1951772  Převzato dopravcem      ppl  \n",
       "1951773  Převzato dopravcem      ppl  "
      ]
     },
     "execution_count": 35,
     "metadata": {},
     "output_type": "execute_result"
    }
   ],
   "source": [
    "full_dup_per_id.head()"
   ]
  },
  {
   "cell_type": "code",
   "execution_count": 36,
   "metadata": {},
   "outputs": [],
   "source": [
    "full_dup_per_id.to_csv('mall_pt/csv/duplicates_example.csv', sep=',', encoding='utf-8')"
   ]
  },
  {
   "cell_type": "code",
   "execution_count": 37,
   "metadata": {},
   "outputs": [],
   "source": [
    "all_dup = no_pt_dup[no_pt_dup[\"tracking_id\"].isin(tracking_id_no_dup[\"tracking_id\"].index)]"
   ]
  },
  {
   "cell_type": "code",
   "execution_count": 38,
   "metadata": {},
   "outputs": [
    {
     "data": {
      "text/plain": [
       "(268551, 5)"
      ]
     },
     "execution_count": 38,
     "metadata": {},
     "output_type": "execute_result"
    }
   ],
   "source": [
    "all_dup.shape"
   ]
  },
  {
   "cell_type": "code",
   "execution_count": 39,
   "metadata": {},
   "outputs": [
    {
     "data": {
      "text/plain": [
       "(659370, 5)"
      ]
     },
     "execution_count": 39,
     "metadata": {},
     "output_type": "execute_result"
    }
   ],
   "source": [
    "no_pt_dup.shape"
   ]
  },
  {
   "cell_type": "code",
   "execution_count": 40,
   "metadata": {},
   "outputs": [],
   "source": [
    "all_dup1 = all_dup.sort_values(by='tracking_id')"
   ]
  },
  {
   "cell_type": "code",
   "execution_count": 41,
   "metadata": {},
   "outputs": [],
   "source": [
    "all_dup1.to_csv('mall_pt/csv/duplicates_detail.csv', sep=',', encoding='utf-8', index=False)"
   ]
  },
  {
   "cell_type": "code",
   "execution_count": 42,
   "metadata": {},
   "outputs": [
    {
     "data": {
      "text/html": [
       "<div>\n",
       "<style scoped>\n",
       "    .dataframe tbody tr th:only-of-type {\n",
       "        vertical-align: middle;\n",
       "    }\n",
       "\n",
       "    .dataframe tbody tr th {\n",
       "        vertical-align: top;\n",
       "    }\n",
       "\n",
       "    .dataframe thead th {\n",
       "        text-align: right;\n",
       "    }\n",
       "</style>\n",
       "<table border=\"1\" class=\"dataframe\">\n",
       "  <thead>\n",
       "    <tr style=\"text-align: right;\">\n",
       "      <th></th>\n",
       "      <th>tracking_id</th>\n",
       "      <th>date</th>\n",
       "      <th>status</th>\n",
       "      <th>mapped_status</th>\n",
       "      <th>provider</th>\n",
       "    </tr>\n",
       "  </thead>\n",
       "  <tbody>\n",
       "    <tr>\n",
       "      <th>0</th>\n",
       "      <td>1363206</td>\n",
       "      <td>2017-12-13 16:29:27</td>\n",
       "      <td>Balíček jsme úspěšně doručili</td>\n",
       "      <td>Doručeno</td>\n",
       "      <td>dpd</td>\n",
       "    </tr>\n",
       "    <tr>\n",
       "      <th>1</th>\n",
       "      <td>1363207</td>\n",
       "      <td>2017-12-13 13:38:48</td>\n",
       "      <td>Balíček jsme úspěšně doručili</td>\n",
       "      <td>Doručeno</td>\n",
       "      <td>dpd</td>\n",
       "    </tr>\n",
       "    <tr>\n",
       "      <th>2</th>\n",
       "      <td>1363208</td>\n",
       "      <td>2017-12-13 12:08:33</td>\n",
       "      <td>Balíček jsme úspěšně doručili</td>\n",
       "      <td>Doručeno</td>\n",
       "      <td>dpd</td>\n",
       "    </tr>\n",
       "    <tr>\n",
       "      <th>3</th>\n",
       "      <td>1363209</td>\n",
       "      <td>2017-12-13 14:06:00</td>\n",
       "      <td>Balíček jsme úspěšně doručili</td>\n",
       "      <td>Doručeno</td>\n",
       "      <td>dpd</td>\n",
       "    </tr>\n",
       "    <tr>\n",
       "      <th>4</th>\n",
       "      <td>1363210</td>\n",
       "      <td>2017-12-13 15:14:08</td>\n",
       "      <td>Balíček jsme úspěšně doručili</td>\n",
       "      <td>Doručeno</td>\n",
       "      <td>dpd</td>\n",
       "    </tr>\n",
       "  </tbody>\n",
       "</table>\n",
       "</div>"
      ],
      "text/plain": [
       "   tracking_id                date                         status  \\\n",
       "0      1363206 2017-12-13 16:29:27  Balíček jsme úspěšně doručili   \n",
       "1      1363207 2017-12-13 13:38:48  Balíček jsme úspěšně doručili   \n",
       "2      1363208 2017-12-13 12:08:33  Balíček jsme úspěšně doručili   \n",
       "3      1363209 2017-12-13 14:06:00  Balíček jsme úspěšně doručili   \n",
       "4      1363210 2017-12-13 15:14:08  Balíček jsme úspěšně doručili   \n",
       "\n",
       "  mapped_status provider  \n",
       "0      Doručeno      dpd  \n",
       "1      Doručeno      dpd  \n",
       "2      Doručeno      dpd  \n",
       "3      Doručeno      dpd  \n",
       "4      Doručeno      dpd  "
      ]
     },
     "execution_count": 42,
     "metadata": {},
     "output_type": "execute_result"
    }
   ],
   "source": [
    "no_pt_dup.head()"
   ]
  },
  {
   "cell_type": "code",
   "execution_count": 43,
   "metadata": {},
   "outputs": [],
   "source": [
    "#- najvyuzivanejsi dopravca\n",
    "most_common_provider = no_pt_dup[\"provider\"].groupby([no_pt_dup[\"provider\"]]).count().sort_values(ascending=False)"
   ]
  },
  {
   "cell_type": "code",
   "execution_count": 44,
   "metadata": {},
   "outputs": [
    {
     "data": {
      "text/plain": [
       "provider\n",
       "intime             422669\n",
       "ppl                109325\n",
       "ceskaposta          45982\n",
       "raben               44902\n",
       "gebruderweiss       17724\n",
       "ulozenka            14394\n",
       "toptrans             2020\n",
       "geis                 1751\n",
       "zavolejsikuryra       495\n",
       "dpd                   108\n",
       "Name: provider, dtype: int64"
      ]
     },
     "execution_count": 44,
     "metadata": {},
     "output_type": "execute_result"
    }
   ],
   "source": [
    "most_common_provider"
   ]
  },
  {
   "cell_type": "code",
   "execution_count": 45,
   "metadata": {},
   "outputs": [
    {
     "data": {
      "image/png": "[encoded data removed]",
      "text/plain": [
       "<matplotlib.figure.Figure at 0x10db72550>"
      ]
     },
     "metadata": {},
     "output_type": "display_data"
    }
   ],
   "source": [
    "import matplotlib.cm as cm  \n",
    "\n",
    "\n",
    "type_colors = cm.autumn(np.linspace(0.05,0.95,len(most_common_provider)))\n",
    "ax = most_common_provider.plot.bar(color=type_colors, title='Mall providers', figsize=(10,10))\n",
    "ax.set_xlabel = 'Providers'\n",
    "ax.set_ylabel = 'Number of deliveries'\n",
    "for p in ax.patches:\n",
    "    ax.annotate(str(p.get_height()), (p.get_x(), p.get_height() * 1.005))"
   ]
  },
  {
   "cell_type": "code",
   "execution_count": 46,
   "metadata": {},
   "outputs": [],
   "source": [
    "fig = ax.get_figure()\n",
    "fig.savefig('mall_pt/csv/providers.png')"
   ]
  },
  {
   "cell_type": "code",
   "execution_count": 47,
   "metadata": {},
   "outputs": [],
   "source": [
    "delivered = no_pt_dup[no_pt_dup[\"mapped_status\"] == \"Doručeno\"]"
   ]
  },
  {
   "cell_type": "code",
   "execution_count": 48,
   "metadata": {},
   "outputs": [
    {
     "data": {
      "text/plain": [
       "(112669, 5)"
      ]
     },
     "execution_count": 48,
     "metadata": {},
     "output_type": "execute_result"
    }
   ],
   "source": [
    "delivered.shape"
   ]
  },
  {
   "cell_type": "code",
   "execution_count": 49,
   "metadata": {},
   "outputs": [
    {
     "data": {
      "text/html": [
       "<div>\n",
       "<style scoped>\n",
       "    .dataframe tbody tr th:only-of-type {\n",
       "        vertical-align: middle;\n",
       "    }\n",
       "\n",
       "    .dataframe tbody tr th {\n",
       "        vertical-align: top;\n",
       "    }\n",
       "\n",
       "    .dataframe thead th {\n",
       "        text-align: right;\n",
       "    }\n",
       "</style>\n",
       "<table border=\"1\" class=\"dataframe\">\n",
       "  <thead>\n",
       "    <tr style=\"text-align: right;\">\n",
       "      <th></th>\n",
       "      <th>tracking_id</th>\n",
       "      <th>date</th>\n",
       "      <th>status</th>\n",
       "      <th>mapped_status</th>\n",
       "      <th>provider</th>\n",
       "    </tr>\n",
       "  </thead>\n",
       "  <tbody>\n",
       "    <tr>\n",
       "      <th>0</th>\n",
       "      <td>1363206</td>\n",
       "      <td>2017-12-13 16:29:27</td>\n",
       "      <td>Balíček jsme úspěšně doručili</td>\n",
       "      <td>Doručeno</td>\n",
       "      <td>dpd</td>\n",
       "    </tr>\n",
       "    <tr>\n",
       "      <th>1</th>\n",
       "      <td>1363207</td>\n",
       "      <td>2017-12-13 13:38:48</td>\n",
       "      <td>Balíček jsme úspěšně doručili</td>\n",
       "      <td>Doručeno</td>\n",
       "      <td>dpd</td>\n",
       "    </tr>\n",
       "    <tr>\n",
       "      <th>2</th>\n",
       "      <td>1363208</td>\n",
       "      <td>2017-12-13 12:08:33</td>\n",
       "      <td>Balíček jsme úspěšně doručili</td>\n",
       "      <td>Doručeno</td>\n",
       "      <td>dpd</td>\n",
       "    </tr>\n",
       "    <tr>\n",
       "      <th>3</th>\n",
       "      <td>1363209</td>\n",
       "      <td>2017-12-13 14:06:00</td>\n",
       "      <td>Balíček jsme úspěšně doručili</td>\n",
       "      <td>Doručeno</td>\n",
       "      <td>dpd</td>\n",
       "    </tr>\n",
       "    <tr>\n",
       "      <th>4</th>\n",
       "      <td>1363210</td>\n",
       "      <td>2017-12-13 15:14:08</td>\n",
       "      <td>Balíček jsme úspěšně doručili</td>\n",
       "      <td>Doručeno</td>\n",
       "      <td>dpd</td>\n",
       "    </tr>\n",
       "  </tbody>\n",
       "</table>\n",
       "</div>"
      ],
      "text/plain": [
       "   tracking_id                date                         status  \\\n",
       "0      1363206 2017-12-13 16:29:27  Balíček jsme úspěšně doručili   \n",
       "1      1363207 2017-12-13 13:38:48  Balíček jsme úspěšně doručili   \n",
       "2      1363208 2017-12-13 12:08:33  Balíček jsme úspěšně doručili   \n",
       "3      1363209 2017-12-13 14:06:00  Balíček jsme úspěšně doručili   \n",
       "4      1363210 2017-12-13 15:14:08  Balíček jsme úspěšně doručili   \n",
       "\n",
       "  mapped_status provider  \n",
       "0      Doručeno      dpd  \n",
       "1      Doručeno      dpd  \n",
       "2      Doručeno      dpd  \n",
       "3      Doručeno      dpd  \n",
       "4      Doručeno      dpd  "
      ]
     },
     "execution_count": 49,
     "metadata": {},
     "output_type": "execute_result"
    }
   ],
   "source": [
    "delivered.head()"
   ]
  },
  {
   "cell_type": "code",
   "execution_count": 50,
   "metadata": {},
   "outputs": [],
   "source": [
    "most_common_provider_delivered = delivered[\"provider\"].groupby([delivered[\"provider\"]]).count().sort_values(ascending=False)"
   ]
  },
  {
   "cell_type": "code",
   "execution_count": 51,
   "metadata": {},
   "outputs": [
    {
     "data": {
      "text/plain": [
       "provider\n",
       "intime             60951\n",
       "ppl                16977\n",
       "ceskaposta         14612\n",
       "raben               9697\n",
       "gebruderweiss       8191\n",
       "ulozenka            1756\n",
       "toptrans             257\n",
       "dpd                  108\n",
       "geis                  66\n",
       "zavolejsikuryra       54\n",
       "Name: provider, dtype: int64"
      ]
     },
     "execution_count": 51,
     "metadata": {},
     "output_type": "execute_result"
    }
   ],
   "source": [
    "most_common_provider_delivered"
   ]
  },
  {
   "cell_type": "code",
   "execution_count": 52,
   "metadata": {},
   "outputs": [
    {
     "data": {
      "image/png": "[encoded data removed]",
      "text/plain": [
       "<matplotlib.figure.Figure at 0x106219668>"
      ]
     },
     "metadata": {},
     "output_type": "display_data"
    }
   ],
   "source": [
    "type_colors = cm.autumn(np.linspace(0.05,0.95,len(most_common_provider_delivered)))\n",
    "ax = most_common_provider_delivered.plot.bar(color=type_colors, title='Mall providers', figsize=(10,10))\n",
    "ax.set_xlabel = 'Providers'\n",
    "ax.set_ylabel = 'Number of deliveries'\n",
    "for p in ax.patches:\n",
    "    ax.annotate(str(p.get_height()), (p.get_x(), p.get_height() * 1.005))"
   ]
  },
  {
   "cell_type": "code",
   "execution_count": 53,
   "metadata": {},
   "outputs": [],
   "source": [
    "fig1 = ax.get_figure()\n",
    "fig1.savefig('mall_pt/csv/providers_delivered.png')"
   ]
  },
  {
   "cell_type": "code",
   "execution_count": 54,
   "metadata": {},
   "outputs": [],
   "source": [
    "cancelled = no_pt_dup[no_pt_dup[\"mapped_status\"] == \"Stornováno\"]"
   ]
  },
  {
   "cell_type": "code",
   "execution_count": 55,
   "metadata": {},
   "outputs": [
    {
     "data": {
      "text/html": [
       "<div>\n",
       "<style scoped>\n",
       "    .dataframe tbody tr th:only-of-type {\n",
       "        vertical-align: middle;\n",
       "    }\n",
       "\n",
       "    .dataframe tbody tr th {\n",
       "        vertical-align: top;\n",
       "    }\n",
       "\n",
       "    .dataframe thead th {\n",
       "        text-align: right;\n",
       "    }\n",
       "</style>\n",
       "<table border=\"1\" class=\"dataframe\">\n",
       "  <thead>\n",
       "    <tr style=\"text-align: right;\">\n",
       "      <th></th>\n",
       "      <th>tracking_id</th>\n",
       "      <th>date</th>\n",
       "      <th>status</th>\n",
       "      <th>mapped_status</th>\n",
       "      <th>provider</th>\n",
       "    </tr>\n",
       "  </thead>\n",
       "  <tbody>\n",
       "    <tr>\n",
       "      <th>4374</th>\n",
       "      <td>424312</td>\n",
       "      <td>2017-11-30 10:24:52</td>\n",
       "      <td>Stornováno</td>\n",
       "      <td>Stornováno</td>\n",
       "      <td>intime</td>\n",
       "    </tr>\n",
       "    <tr>\n",
       "      <th>4375</th>\n",
       "      <td>424295</td>\n",
       "      <td>2017-11-30 10:26:18</td>\n",
       "      <td>Stornováno</td>\n",
       "      <td>Stornováno</td>\n",
       "      <td>intime</td>\n",
       "    </tr>\n",
       "    <tr>\n",
       "      <th>4376</th>\n",
       "      <td>424315</td>\n",
       "      <td>2017-11-30 10:26:41</td>\n",
       "      <td>Stornováno</td>\n",
       "      <td>Stornováno</td>\n",
       "      <td>intime</td>\n",
       "    </tr>\n",
       "    <tr>\n",
       "      <th>4377</th>\n",
       "      <td>424311</td>\n",
       "      <td>2017-11-30 10:27:15</td>\n",
       "      <td>Stornováno</td>\n",
       "      <td>Stornováno</td>\n",
       "      <td>intime</td>\n",
       "    </tr>\n",
       "    <tr>\n",
       "      <th>4378</th>\n",
       "      <td>424298</td>\n",
       "      <td>2017-11-30 10:27:36</td>\n",
       "      <td>Stornováno</td>\n",
       "      <td>Stornováno</td>\n",
       "      <td>intime</td>\n",
       "    </tr>\n",
       "  </tbody>\n",
       "</table>\n",
       "</div>"
      ],
      "text/plain": [
       "      tracking_id                date      status mapped_status provider\n",
       "4374       424312 2017-11-30 10:24:52  Stornováno    Stornováno   intime\n",
       "4375       424295 2017-11-30 10:26:18  Stornováno    Stornováno   intime\n",
       "4376       424315 2017-11-30 10:26:41  Stornováno    Stornováno   intime\n",
       "4377       424311 2017-11-30 10:27:15  Stornováno    Stornováno   intime\n",
       "4378       424298 2017-11-30 10:27:36  Stornováno    Stornováno   intime"
      ]
     },
     "execution_count": 55,
     "metadata": {},
     "output_type": "execute_result"
    }
   ],
   "source": [
    "cancelled.head()"
   ]
  },
  {
   "cell_type": "code",
   "execution_count": 56,
   "metadata": {},
   "outputs": [],
   "source": [
    "cancelled_count = cancelled[\"provider\"].groupby([cancelled[\"provider\"]]).count()"
   ]
  },
  {
   "cell_type": "code",
   "execution_count": 57,
   "metadata": {},
   "outputs": [],
   "source": [
    "cancelled_count = cancelled_count.to_frame()"
   ]
  },
  {
   "cell_type": "code",
   "execution_count": 58,
   "metadata": {},
   "outputs": [],
   "source": [
    "cancelled_count = cancelled_count.rename(columns = {'provider' : 'n_c'})"
   ]
  },
  {
   "cell_type": "code",
   "execution_count": 59,
   "metadata": {},
   "outputs": [
    {
     "data": {
      "text/html": [
       "<div>\n",
       "<style scoped>\n",
       "    .dataframe tbody tr th:only-of-type {\n",
       "        vertical-align: middle;\n",
       "    }\n",
       "\n",
       "    .dataframe tbody tr th {\n",
       "        vertical-align: top;\n",
       "    }\n",
       "\n",
       "    .dataframe thead th {\n",
       "        text-align: right;\n",
       "    }\n",
       "</style>\n",
       "<table border=\"1\" class=\"dataframe\">\n",
       "  <thead>\n",
       "    <tr style=\"text-align: right;\">\n",
       "      <th></th>\n",
       "      <th>n_c</th>\n",
       "    </tr>\n",
       "    <tr>\n",
       "      <th>provider</th>\n",
       "      <th></th>\n",
       "    </tr>\n",
       "  </thead>\n",
       "  <tbody>\n",
       "    <tr>\n",
       "      <th>ceskaposta</th>\n",
       "      <td>2471</td>\n",
       "    </tr>\n",
       "    <tr>\n",
       "      <th>gebruderweiss</th>\n",
       "      <td>522</td>\n",
       "    </tr>\n",
       "    <tr>\n",
       "      <th>geis</th>\n",
       "      <td>32</td>\n",
       "    </tr>\n",
       "    <tr>\n",
       "      <th>intime</th>\n",
       "      <td>594</td>\n",
       "    </tr>\n",
       "    <tr>\n",
       "      <th>ppl</th>\n",
       "      <td>392</td>\n",
       "    </tr>\n",
       "    <tr>\n",
       "      <th>ulozenka</th>\n",
       "      <td>125</td>\n",
       "    </tr>\n",
       "    <tr>\n",
       "      <th>zavolejsikuryra</th>\n",
       "      <td>21</td>\n",
       "    </tr>\n",
       "  </tbody>\n",
       "</table>\n",
       "</div>"
      ],
      "text/plain": [
       "                  n_c\n",
       "provider             \n",
       "ceskaposta       2471\n",
       "gebruderweiss     522\n",
       "geis               32\n",
       "intime            594\n",
       "ppl               392\n",
       "ulozenka          125\n",
       "zavolejsikuryra    21"
      ]
     },
     "execution_count": 59,
     "metadata": {},
     "output_type": "execute_result"
    }
   ],
   "source": [
    "cancelled_count"
   ]
  },
  {
   "cell_type": "code",
   "execution_count": 60,
   "metadata": {},
   "outputs": [
    {
     "data": {
      "image/png": "[encoded data removed]",
      "text/plain": [
       "<matplotlib.figure.Figure at 0x1084d03c8>"
      ]
     },
     "metadata": {},
     "output_type": "display_data"
    }
   ],
   "source": [
    "bx = cancelled_count.boxplot(column='n_c', by='provider', figsize = (10,10))"
   ]
  },
  {
   "cell_type": "code",
   "execution_count": 61,
   "metadata": {},
   "outputs": [],
   "source": [
    "fig2 = bx.get_figure()\n",
    "fig2.savefig('mall_pt/csv/providers_cancelled.png')"
   ]
  },
  {
   "cell_type": "code",
   "execution_count": 62,
   "metadata": {},
   "outputs": [
    {
     "data": {
      "text/plain": [
       "392266   1899-12-30 11:13:46\n",
       "426400   2017-09-15 12:28:05\n",
       "426452   2017-09-15 12:28:05\n",
       "428480   2017-09-15 13:42:58\n",
       "428532   2017-09-15 13:42:58\n",
       "Name: date, dtype: datetime64[ns]"
      ]
     },
     "execution_count": 62,
     "metadata": {},
     "output_type": "execute_result"
    }
   ],
   "source": [
    "delivered['date'].sort_values(ascending=True).head()"
   ]
  },
  {
   "cell_type": "code",
   "execution_count": 63,
   "metadata": {},
   "outputs": [],
   "source": [
    "delivered_last_month = delivered.loc[delivered.date > '2017-12-01 08:00:00']"
   ]
  },
  {
   "cell_type": "code",
   "execution_count": null,
   "metadata": {},
   "outputs": [],
   "source": [
    "delivered_last_month"
   ]
  },
  {
   "cell_type": "code",
   "execution_count": 65,
   "metadata": {},
   "outputs": [
    {
     "data": {
      "image/png": "[encoded data removed]",
      "text/plain": [
       "<matplotlib.figure.Figure at 0x10d9bd5c0>"
      ]
     },
     "metadata": {},
     "output_type": "display_data"
    }
   ],
   "source": [
    "cx = delivered_last_month.groupby([pd.Grouper(key='date', freq='W'), 'provider']) \\\n",
    "  .size() \\\n",
    "  .unstack('provider', fill_value=0) \\\n",
    "  .pipe(lambda x: x.div(x.sum(1), axis=0)) \\\n",
    "  .plot(kind='area', figsize=(12,6), title='Percentage of delivered - December') \\\n",
    "  .legend(loc='upper right')"
   ]
  },
  {
   "cell_type": "code",
   "execution_count": 66,
   "metadata": {},
   "outputs": [],
   "source": [
    "fig3 = cx.get_figure()\n",
    "fig3.savefig('mall_pt/csv/december.png')"
   ]
  },
  {
   "cell_type": "code",
   "execution_count": 104,
   "metadata": {},
   "outputs": [],
   "source": [
    "providers_grouped = no_pt_dup[[\"tracking_id\", \"provider\", \"status\", \"mapped_status\", \"date\"]].sort_values(by=['date']).groupby(\n",
    "    [no_pt_dup[\"tracking_id\"], no_pt_dup[\"date\"]])"
   ]
  },
  {
   "cell_type": "code",
   "execution_count": 105,
   "metadata": {},
   "outputs": [
    {
     "data": {
      "text/html": [
       "<div>\n",
       "<style scoped>\n",
       "    .dataframe tbody tr th:only-of-type {\n",
       "        vertical-align: middle;\n",
       "    }\n",
       "\n",
       "    .dataframe tbody tr th {\n",
       "        vertical-align: top;\n",
       "    }\n",
       "\n",
       "    .dataframe thead th {\n",
       "        text-align: right;\n",
       "    }\n",
       "</style>\n",
       "<table border=\"1\" class=\"dataframe\">\n",
       "  <thead>\n",
       "    <tr style=\"text-align: right;\">\n",
       "      <th></th>\n",
       "      <th>tracking_id</th>\n",
       "      <th>provider</th>\n",
       "      <th>status</th>\n",
       "      <th>mapped_status</th>\n",
       "      <th>date</th>\n",
       "    </tr>\n",
       "  </thead>\n",
       "  <tbody>\n",
       "    <tr>\n",
       "      <th>392266</th>\n",
       "      <td>1112829</td>\n",
       "      <td>intime</td>\n",
       "      <td>Doručeno</td>\n",
       "      <td>Doručeno</td>\n",
       "      <td>1899-12-30 11:13:46</td>\n",
       "    </tr>\n",
       "    <tr>\n",
       "      <th>2053357</th>\n",
       "      <td>1365496</td>\n",
       "      <td>ceskaposta</td>\n",
       "      <td>pořízeno na pochůzku</td>\n",
       "      <td>Na cestě k příjemci</td>\n",
       "      <td>1970-01-01 11:33:37</td>\n",
       "    </tr>\n",
       "    <tr>\n",
       "      <th>425204</th>\n",
       "      <td>427198</td>\n",
       "      <td>raben</td>\n",
       "      <td>Naloženo z depa (na line haul)</td>\n",
       "      <td>Na cestě k příjemci</td>\n",
       "      <td>2017-09-15 08:05:00</td>\n",
       "    </tr>\n",
       "    <tr>\n",
       "      <th>425308</th>\n",
       "      <td>427199</td>\n",
       "      <td>raben</td>\n",
       "      <td>Naloženo z depa (na line haul)</td>\n",
       "      <td>Na cestě k příjemci</td>\n",
       "      <td>2017-09-15 08:05:00</td>\n",
       "    </tr>\n",
       "    <tr>\n",
       "      <th>425412</th>\n",
       "      <td>427200</td>\n",
       "      <td>raben</td>\n",
       "      <td>Naloženo z depa (na line haul)</td>\n",
       "      <td>Na cestě k příjemci</td>\n",
       "      <td>2017-09-15 08:05:00</td>\n",
       "    </tr>\n",
       "    <tr>\n",
       "      <th>424996</th>\n",
       "      <td>427196</td>\n",
       "      <td>raben</td>\n",
       "      <td>Naloženo z depa (na line haul)</td>\n",
       "      <td>Na cestě k příjemci</td>\n",
       "      <td>2017-09-15 08:24:00</td>\n",
       "    </tr>\n",
       "    <tr>\n",
       "      <th>425100</th>\n",
       "      <td>427197</td>\n",
       "      <td>raben</td>\n",
       "      <td>Naloženo z depa (na line haul)</td>\n",
       "      <td>Na cestě k příjemci</td>\n",
       "      <td>2017-09-15 08:24:00</td>\n",
       "    </tr>\n",
       "    <tr>\n",
       "      <th>424892</th>\n",
       "      <td>427195</td>\n",
       "      <td>raben</td>\n",
       "      <td>Naloženo z depa (na line haul)</td>\n",
       "      <td>Na cestě k příjemci</td>\n",
       "      <td>2017-09-15 08:24:00</td>\n",
       "    </tr>\n",
       "    <tr>\n",
       "      <th>425620</th>\n",
       "      <td>427202</td>\n",
       "      <td>raben</td>\n",
       "      <td>Naloženo z depa (na line haul)</td>\n",
       "      <td>Na cestě k příjemci</td>\n",
       "      <td>2017-09-15 11:52:00</td>\n",
       "    </tr>\n",
       "    <tr>\n",
       "      <th>425516</th>\n",
       "      <td>427201</td>\n",
       "      <td>raben</td>\n",
       "      <td>Naloženo z depa (na line haul)</td>\n",
       "      <td>Na cestě k příjemci</td>\n",
       "      <td>2017-09-15 11:52:00</td>\n",
       "    </tr>\n",
       "  </tbody>\n",
       "</table>\n",
       "</div>"
      ],
      "text/plain": [
       "         tracking_id    provider                          status  \\\n",
       "392266       1112829      intime                        Doručeno   \n",
       "2053357      1365496  ceskaposta            pořízeno na pochůzku   \n",
       "425204        427198       raben  Naloženo z depa (na line haul)   \n",
       "425308        427199       raben  Naloženo z depa (na line haul)   \n",
       "425412        427200       raben  Naloženo z depa (na line haul)   \n",
       "424996        427196       raben  Naloženo z depa (na line haul)   \n",
       "425100        427197       raben  Naloženo z depa (na line haul)   \n",
       "424892        427195       raben  Naloženo z depa (na line haul)   \n",
       "425620        427202       raben  Naloženo z depa (na line haul)   \n",
       "425516        427201       raben  Naloženo z depa (na line haul)   \n",
       "\n",
       "               mapped_status                date  \n",
       "392266              Doručeno 1899-12-30 11:13:46  \n",
       "2053357  Na cestě k příjemci 1970-01-01 11:33:37  \n",
       "425204   Na cestě k příjemci 2017-09-15 08:05:00  \n",
       "425308   Na cestě k příjemci 2017-09-15 08:05:00  \n",
       "425412   Na cestě k příjemci 2017-09-15 08:05:00  \n",
       "424996   Na cestě k příjemci 2017-09-15 08:24:00  \n",
       "425100   Na cestě k příjemci 2017-09-15 08:24:00  \n",
       "424892   Na cestě k příjemci 2017-09-15 08:24:00  \n",
       "425620   Na cestě k příjemci 2017-09-15 11:52:00  \n",
       "425516   Na cestě k příjemci 2017-09-15 11:52:00  "
      ]
     },
     "execution_count": 105,
     "metadata": {},
     "output_type": "execute_result"
    }
   ],
   "source": [
    "providers_grouped.tail()[0:10]"
   ]
  },
  {
   "cell_type": "code",
   "execution_count": 69,
   "metadata": {},
   "outputs": [],
   "source": [
    "new_df = providers_grouped.head().sort_values(by=['provider', 'tracking_id', 'date'])"
   ]
  },
  {
   "cell_type": "code",
   "execution_count": 70,
   "metadata": {},
   "outputs": [
    {
     "data": {
      "text/html": [
       "<div>\n",
       "<style scoped>\n",
       "    .dataframe tbody tr th:only-of-type {\n",
       "        vertical-align: middle;\n",
       "    }\n",
       "\n",
       "    .dataframe tbody tr th {\n",
       "        vertical-align: top;\n",
       "    }\n",
       "\n",
       "    .dataframe thead th {\n",
       "        text-align: right;\n",
       "    }\n",
       "</style>\n",
       "<table border=\"1\" class=\"dataframe\">\n",
       "  <thead>\n",
       "    <tr style=\"text-align: right;\">\n",
       "      <th></th>\n",
       "      <th>tracking_id</th>\n",
       "      <th>provider</th>\n",
       "      <th>status</th>\n",
       "      <th>mapped_status</th>\n",
       "      <th>date</th>\n",
       "    </tr>\n",
       "  </thead>\n",
       "  <tbody>\n",
       "    <tr>\n",
       "      <th>416436</th>\n",
       "      <td>53019</td>\n",
       "      <td>intime</td>\n",
       "      <td>Výdej na kurýra</td>\n",
       "      <td>Převzato dopravcem</td>\n",
       "      <td>2017-12-20 02:00:00</td>\n",
       "    </tr>\n",
       "    <tr>\n",
       "      <th>421200</th>\n",
       "      <td>53019</td>\n",
       "      <td>intime</td>\n",
       "      <td>Výdej na kurýra</td>\n",
       "      <td>Převzato dopravcem</td>\n",
       "      <td>2017-12-20 18:08:00</td>\n",
       "    </tr>\n",
       "    <tr>\n",
       "      <th>421759</th>\n",
       "      <td>53019</td>\n",
       "      <td>intime</td>\n",
       "      <td>Výdej na kurýra</td>\n",
       "      <td>Převzato dopravcem</td>\n",
       "      <td>2017-12-21 02:00:00</td>\n",
       "    </tr>\n",
       "    <tr>\n",
       "      <th>422906</th>\n",
       "      <td>53019</td>\n",
       "      <td>intime</td>\n",
       "      <td>Na cestě k příjemci</td>\n",
       "      <td>Na cestě k příjemci</td>\n",
       "      <td>2017-12-21 08:53:10</td>\n",
       "    </tr>\n",
       "    <tr>\n",
       "      <th>423324</th>\n",
       "      <td>53019</td>\n",
       "      <td>intime</td>\n",
       "      <td>Stornováno</td>\n",
       "      <td>Stornováno</td>\n",
       "      <td>2017-12-21 10:05:20</td>\n",
       "    </tr>\n",
       "  </tbody>\n",
       "</table>\n",
       "</div>"
      ],
      "text/plain": [
       "        tracking_id provider               status        mapped_status  \\\n",
       "416436        53019   intime      Výdej na kurýra   Převzato dopravcem   \n",
       "421200        53019   intime      Výdej na kurýra   Převzato dopravcem   \n",
       "421759        53019   intime      Výdej na kurýra   Převzato dopravcem   \n",
       "422906        53019   intime  Na cestě k příjemci  Na cestě k příjemci   \n",
       "423324        53019   intime           Stornováno           Stornováno   \n",
       "\n",
       "                      date  \n",
       "416436 2017-12-20 02:00:00  \n",
       "421200 2017-12-20 18:08:00  \n",
       "421759 2017-12-21 02:00:00  \n",
       "422906 2017-12-21 08:53:10  \n",
       "423324 2017-12-21 10:05:20  "
      ]
     },
     "execution_count": 70,
     "metadata": {},
     "output_type": "execute_result"
    }
   ],
   "source": [
    "new_df[new_df['tracking_id'] == 53019]"
   ]
  },
  {
   "cell_type": "code",
   "execution_count": 71,
   "metadata": {},
   "outputs": [],
   "source": [
    "cp_dict = {}\n",
    "intime_dict = {}\n",
    "ppl_dict = {}\n",
    "dpd_dict = {}\n",
    "gw_dict = {}\n",
    "geis_dict = {}\n",
    "raben_dict = {}\n",
    "ulozenka_dict = {}\n",
    "kuryr_dict = {}\n",
    "toptrans_dict = {}\n",
    "uni = {}"
   ]
  },
  {
   "cell_type": "code",
   "execution_count": 273,
   "metadata": {},
   "outputs": [],
   "source": [
    "temp_arr = []\n",
    "c = 0"
   ]
  },
  {
   "cell_type": "code",
   "execution_count": null,
   "metadata": {},
   "outputs": [],
   "source": [
    "for index, group in providers_grouped:\n",
    "    temp_arr.append([group.mapped_status.values[0], group.provider.values[0], group.tracking_id.values[0]])"
   ]
  },
  {
   "cell_type": "code",
   "execution_count": 276,
   "metadata": {},
   "outputs": [],
   "source": [
    "d = collections.defaultdict(list)"
   ]
  },
  {
   "cell_type": "code",
   "execution_count": 168,
   "metadata": {},
   "outputs": [],
   "source": [
    "for k, v in temp_arr:\n",
    "    d[v].append(k)"
   ]
  },
  {
   "cell_type": "code",
   "execution_count": 170,
   "metadata": {},
   "outputs": [],
   "source": [
    "new = sorted(d.items())"
   ]
  },
  {
   "cell_type": "code",
   "execution_count": 171,
   "metadata": {},
   "outputs": [
    {
     "name": "stdout",
     "output_type": "stream",
     "text": [
      "53019 ['Převzato dopravcem', 'Převzato dopravcem', 'Převzato dopravcem', 'Na cestě k příjemci', 'Stornováno']\n",
      "56307 ['Převzato dopravcem', 'Na cestě k příjemci', 'Stornováno']\n"
     ]
    }
   ],
   "source": [
    "for i,j in new[0:2]:\n",
    "    print (i,j)"
   ]
  },
  {
   "cell_type": "code",
   "execution_count": 172,
   "metadata": {},
   "outputs": [],
   "source": [
    "for i,j in new:\n",
    "    cp_dict[i] = j"
   ]
  },
  {
   "cell_type": "code",
   "execution_count": 174,
   "metadata": {},
   "outputs": [
    {
     "data": {
      "text/plain": [
       "450562"
      ]
     },
     "execution_count": 174,
     "metadata": {},
     "output_type": "execute_result"
    }
   ],
   "source": [
    "len(cp_dict)"
   ]
  },
  {
   "cell_type": "code",
   "execution_count": 175,
   "metadata": {},
   "outputs": [],
   "source": [
    "default = ['Převzato dopravcem', 'Na cestě k příjemci', 'Doručeno', 'Stornováno']"
   ]
  },
  {
   "cell_type": "code",
   "execution_count": 262,
   "metadata": {},
   "outputs": [],
   "source": [
    "message = []"
   ]
  },
  {
   "cell_type": "code",
   "execution_count": 177,
   "metadata": {},
   "outputs": [],
   "source": [
    "dicts1 = [cp_dict, intime_dict, ppl_dict, dpd_dict, gw_dict, geis_dict, raben_dict, ulozenka_dict,\n",
    "         kuryr_dict, toptrans_dict]"
   ]
  },
  {
   "cell_type": "code",
   "execution_count": null,
   "metadata": {},
   "outputs": [],
   "source": [
    "def remove_nan(adict):\n",
    "    for j, i in adict.items():\n",
    "        for h in i:\n",
    "            if type(h) == float:\n",
    "                np.delete(i, h)"
   ]
  },
  {
   "cell_type": "code",
   "execution_count": 263,
   "metadata": {},
   "outputs": [],
   "source": [
    "def check1(dict):\n",
    "    c = 0\n",
    "    for j, i in dict.items():\n",
    "        status_count = 0\n",
    "        for k in i:\n",
    "            \n",
    "            temp_len = len(i)\n",
    "            \n",
    "            if k == 'Doručeno' or k == 'Stornováno':\n",
    "\n",
    "                if status_count == temp_len-1:\n",
    "                    message.append(['Final state', j, k])\n",
    "            status_count +=1\n",
    "            \n",
    "        if 'Převzato dopravcem' not in i and 'Na cestě k příjemci' in i:\n",
    "\n",
    "            message.append(['Missing Převzato dopravcem state', j, k])\n",
    "        if default not in i and status_count == temp_len-1:\n",
    "\n",
    "            message.append(['Missing expected statuses', j, i])\n",
    "\n",
    "        if 'Doručeno' in i or 'Stornováno' in i:\n",
    "\n",
    "            if i[-1] not in ['Doručeno', 'Stornováno']:\n",
    "                message.append([\"New status after final\", j, i])\n",
    "            \n",
    "                "
   ]
  },
  {
   "cell_type": "code",
   "execution_count": 264,
   "metadata": {},
   "outputs": [],
   "source": [
    "check1(cp_dict)"
   ]
  },
  {
   "cell_type": "code",
   "execution_count": 822,
   "metadata": {},
   "outputs": [],
   "source": [
    "check1(kuryr_dict, 'zavolejsikuryra')"
   ]
  },
  {
   "cell_type": "code",
   "execution_count": 265,
   "metadata": {},
   "outputs": [],
   "source": [
    "t = pd.DataFrame(message)"
   ]
  },
  {
   "cell_type": "code",
   "execution_count": 266,
   "metadata": {},
   "outputs": [
    {
     "data": {
      "text/html": [
       "<div>\n",
       "<style scoped>\n",
       "    .dataframe tbody tr th:only-of-type {\n",
       "        vertical-align: middle;\n",
       "    }\n",
       "\n",
       "    .dataframe tbody tr th {\n",
       "        vertical-align: top;\n",
       "    }\n",
       "\n",
       "    .dataframe thead th {\n",
       "        text-align: right;\n",
       "    }\n",
       "</style>\n",
       "<table border=\"1\" class=\"dataframe\">\n",
       "  <thead>\n",
       "    <tr style=\"text-align: right;\">\n",
       "      <th></th>\n",
       "      <th>0</th>\n",
       "      <th>1</th>\n",
       "      <th>2</th>\n",
       "    </tr>\n",
       "  </thead>\n",
       "  <tbody>\n",
       "    <tr>\n",
       "      <th>1353</th>\n",
       "      <td>New status after final</td>\n",
       "      <td>274189</td>\n",
       "      <td>[Na cestě k příjemci, Stornováno, Na cestě k p...</td>\n",
       "    </tr>\n",
       "    <tr>\n",
       "      <th>1374</th>\n",
       "      <td>New status after final</td>\n",
       "      <td>280861</td>\n",
       "      <td>[Na cestě k příjemci, Stornováno, Na cestě k p...</td>\n",
       "    </tr>\n",
       "    <tr>\n",
       "      <th>1428</th>\n",
       "      <td>New status after final</td>\n",
       "      <td>283417</td>\n",
       "      <td>[Na cestě k příjemci, Stornováno, Na cestě k p...</td>\n",
       "    </tr>\n",
       "    <tr>\n",
       "      <th>2669</th>\n",
       "      <td>New status after final</td>\n",
       "      <td>391816</td>\n",
       "      <td>[Doručeno, Převzato dopravcem]</td>\n",
       "    </tr>\n",
       "    <tr>\n",
       "      <th>2797</th>\n",
       "      <td>New status after final</td>\n",
       "      <td>415620</td>\n",
       "      <td>[Převzato dopravcem, nan, Na cestě k příjemci,...</td>\n",
       "    </tr>\n",
       "  </tbody>\n",
       "</table>\n",
       "</div>"
      ],
      "text/plain": [
       "                           0       1  \\\n",
       "1353  New status after final  274189   \n",
       "1374  New status after final  280861   \n",
       "1428  New status after final  283417   \n",
       "2669  New status after final  391816   \n",
       "2797  New status after final  415620   \n",
       "\n",
       "                                                      2  \n",
       "1353  [Na cestě k příjemci, Stornováno, Na cestě k p...  \n",
       "1374  [Na cestě k příjemci, Stornováno, Na cestě k p...  \n",
       "1428  [Na cestě k příjemci, Stornováno, Na cestě k p...  \n",
       "2669                     [Doručeno, Převzato dopravcem]  \n",
       "2797  [Převzato dopravcem, nan, Na cestě k příjemci,...  "
      ]
     },
     "execution_count": 266,
     "metadata": {},
     "output_type": "execute_result"
    }
   ],
   "source": [
    "t[t[0] == 'New status after final'].head()"
   ]
  },
  {
   "cell_type": "code",
   "execution_count": 267,
   "metadata": {},
   "outputs": [],
   "source": [
    "t = t.rename(columns={0 : 'message', 1 : 'tracking_id', 2 : 'detail'})"
   ]
  },
  {
   "cell_type": "code",
   "execution_count": 268,
   "metadata": {},
   "outputs": [
    {
     "data": {
      "text/html": [
       "<div>\n",
       "<style scoped>\n",
       "    .dataframe tbody tr th:only-of-type {\n",
       "        vertical-align: middle;\n",
       "    }\n",
       "\n",
       "    .dataframe tbody tr th {\n",
       "        vertical-align: top;\n",
       "    }\n",
       "\n",
       "    .dataframe thead th {\n",
       "        text-align: right;\n",
       "    }\n",
       "</style>\n",
       "<table border=\"1\" class=\"dataframe\">\n",
       "  <thead>\n",
       "    <tr style=\"text-align: right;\">\n",
       "      <th></th>\n",
       "      <th>message</th>\n",
       "      <th>tracking_id</th>\n",
       "      <th>detail</th>\n",
       "    </tr>\n",
       "  </thead>\n",
       "  <tbody>\n",
       "    <tr>\n",
       "      <th>0</th>\n",
       "      <td>Final state</td>\n",
       "      <td>53019</td>\n",
       "      <td>Stornováno</td>\n",
       "    </tr>\n",
       "    <tr>\n",
       "      <th>1</th>\n",
       "      <td>Final state</td>\n",
       "      <td>56307</td>\n",
       "      <td>Stornováno</td>\n",
       "    </tr>\n",
       "    <tr>\n",
       "      <th>2</th>\n",
       "      <td>Final state</td>\n",
       "      <td>113225</td>\n",
       "      <td>Doručeno</td>\n",
       "    </tr>\n",
       "    <tr>\n",
       "      <th>3</th>\n",
       "      <td>Missing Převzato dopravcem state</td>\n",
       "      <td>113225</td>\n",
       "      <td>Doručeno</td>\n",
       "    </tr>\n",
       "    <tr>\n",
       "      <th>4</th>\n",
       "      <td>Final state</td>\n",
       "      <td>113226</td>\n",
       "      <td>Doručeno</td>\n",
       "    </tr>\n",
       "  </tbody>\n",
       "</table>\n",
       "</div>"
      ],
      "text/plain": [
       "                            message  tracking_id      detail\n",
       "0                       Final state        53019  Stornováno\n",
       "1                       Final state        56307  Stornováno\n",
       "2                       Final state       113225    Doručeno\n",
       "3  Missing Převzato dopravcem state       113225    Doručeno\n",
       "4                       Final state       113226    Doručeno"
      ]
     },
     "execution_count": 268,
     "metadata": {},
     "output_type": "execute_result"
    }
   ],
   "source": [
    "t.head()"
   ]
  },
  {
   "cell_type": "code",
   "execution_count": 269,
   "metadata": {},
   "outputs": [
    {
     "data": {
      "text/plain": [
       "(232799, 3)"
      ]
     },
     "execution_count": 269,
     "metadata": {},
     "output_type": "execute_result"
    }
   ],
   "source": [
    "t.shape"
   ]
  },
  {
   "cell_type": "code",
   "execution_count": 270,
   "metadata": {},
   "outputs": [],
   "source": [
    "t_state = t[[\"message\"]].groupby([t[\"message\"]]).count().sort_values(by='message', ascending=False)"
   ]
  },
  {
   "cell_type": "code",
   "execution_count": 271,
   "metadata": {},
   "outputs": [
    {
     "data": {
      "text/html": [
       "<div>\n",
       "<style scoped>\n",
       "    .dataframe tbody tr th:only-of-type {\n",
       "        vertical-align: middle;\n",
       "    }\n",
       "\n",
       "    .dataframe tbody tr th {\n",
       "        vertical-align: top;\n",
       "    }\n",
       "\n",
       "    .dataframe thead th {\n",
       "        text-align: right;\n",
       "    }\n",
       "</style>\n",
       "<table border=\"1\" class=\"dataframe\">\n",
       "  <thead>\n",
       "    <tr style=\"text-align: right;\">\n",
       "      <th></th>\n",
       "      <th>message</th>\n",
       "    </tr>\n",
       "    <tr>\n",
       "      <th>message</th>\n",
       "      <th></th>\n",
       "    </tr>\n",
       "  </thead>\n",
       "  <tbody>\n",
       "    <tr>\n",
       "      <th>Missing Převzato dopravcem state</th>\n",
       "      <td>118535</td>\n",
       "    </tr>\n",
       "    <tr>\n",
       "      <th>Final state</th>\n",
       "      <td>104228</td>\n",
       "    </tr>\n",
       "    <tr>\n",
       "      <th>New status after final</th>\n",
       "      <td>10036</td>\n",
       "    </tr>\n",
       "  </tbody>\n",
       "</table>\n",
       "</div>"
      ],
      "text/plain": [
       "                                  message\n",
       "message                                  \n",
       "Missing Převzato dopravcem state   118535\n",
       "Final state                        104228\n",
       "New status after final              10036"
      ]
     },
     "execution_count": 271,
     "metadata": {},
     "output_type": "execute_result"
    }
   ],
   "source": [
    "t_state.head()"
   ]
  },
  {
   "cell_type": "code",
   "execution_count": 272,
   "metadata": {},
   "outputs": [],
   "source": [
    "t.sort_values(by='message').to_csv('mall_pt/csv/all.csv', encoding='utf-8', index=False)"
   ]
  },
  {
   "cell_type": "code",
   "execution_count": 985,
   "metadata": {},
   "outputs": [],
   "source": [
    "t_state1 = t[[\"provider\", \"message\"]].groupby([t[\"message\"], t[\"provider\"]]).count().sort_values(by='message', ascending=False)"
   ]
  },
  {
   "cell_type": "code",
   "execution_count": 986,
   "metadata": {},
   "outputs": [],
   "source": [
    "t_state1.to_csv('mall_pt/csv/allg.csv', encoding='utf-8', index=True)"
   ]
  },
  {
   "cell_type": "code",
   "execution_count": 987,
   "metadata": {},
   "outputs": [
    {
     "data": {
      "text/html": [
       "<div>\n",
       "<style scoped>\n",
       "    .dataframe tbody tr th:only-of-type {\n",
       "        vertical-align: middle;\n",
       "    }\n",
       "\n",
       "    .dataframe tbody tr th {\n",
       "        vertical-align: top;\n",
       "    }\n",
       "\n",
       "    .dataframe thead th {\n",
       "        text-align: right;\n",
       "    }\n",
       "</style>\n",
       "<table border=\"1\" class=\"dataframe\">\n",
       "  <thead>\n",
       "    <tr style=\"text-align: right;\">\n",
       "      <th></th>\n",
       "      <th></th>\n",
       "      <th>provider</th>\n",
       "      <th>message</th>\n",
       "    </tr>\n",
       "    <tr>\n",
       "      <th>message</th>\n",
       "      <th>provider</th>\n",
       "      <th></th>\n",
       "      <th></th>\n",
       "    </tr>\n",
       "  </thead>\n",
       "  <tbody>\n",
       "    <tr>\n",
       "      <th>Missing Převzato dopravcem state</th>\n",
       "      <th>ceskaposta</th>\n",
       "      <td>27246</td>\n",
       "      <td>27246</td>\n",
       "    </tr>\n",
       "    <tr>\n",
       "      <th>New status after final</th>\n",
       "      <th>ceskaposta</th>\n",
       "      <td>18762</td>\n",
       "      <td>18762</td>\n",
       "    </tr>\n",
       "    <tr>\n",
       "      <th>Missing expected statuses</th>\n",
       "      <th>ceskaposta</th>\n",
       "      <td>16218</td>\n",
       "      <td>16218</td>\n",
       "    </tr>\n",
       "    <tr>\n",
       "      <th>Final state</th>\n",
       "      <th>ceskaposta</th>\n",
       "      <td>15844</td>\n",
       "      <td>15844</td>\n",
       "    </tr>\n",
       "  </tbody>\n",
       "</table>\n",
       "</div>"
      ],
      "text/plain": [
       "                                             provider  message\n",
       "message                          provider                     \n",
       "Missing Převzato dopravcem state ceskaposta     27246    27246\n",
       "New status after final           ceskaposta     18762    18762\n",
       "Missing expected statuses        ceskaposta     16218    16218\n",
       "Final state                      ceskaposta     15844    15844"
      ]
     },
     "execution_count": 987,
     "metadata": {},
     "output_type": "execute_result"
    }
   ],
   "source": [
    "t_state1"
   ]
  },
  {
   "cell_type": "code",
   "execution_count": 258,
   "metadata": {},
   "outputs": [
    {
     "data": {
      "text/html": [
       "<div>\n",
       "<style scoped>\n",
       "    .dataframe tbody tr th:only-of-type {\n",
       "        vertical-align: middle;\n",
       "    }\n",
       "\n",
       "    .dataframe tbody tr th {\n",
       "        vertical-align: top;\n",
       "    }\n",
       "\n",
       "    .dataframe thead th {\n",
       "        text-align: right;\n",
       "    }\n",
       "</style>\n",
       "<table border=\"1\" class=\"dataframe\">\n",
       "  <thead>\n",
       "    <tr style=\"text-align: right;\">\n",
       "      <th></th>\n",
       "      <th>tracking_id</th>\n",
       "      <th>provider</th>\n",
       "      <th>status</th>\n",
       "      <th>mapped_status</th>\n",
       "      <th>date</th>\n",
       "    </tr>\n",
       "  </thead>\n",
       "  <tbody>\n",
       "    <tr>\n",
       "      <th>2056991</th>\n",
       "      <td>1402787</td>\n",
       "      <td>ceskaposta</td>\n",
       "      <td>Vrácena - odběrní lhůta</td>\n",
       "      <td>Stornováno</td>\n",
       "      <td>2017-12-27 10:29:00</td>\n",
       "    </tr>\n",
       "    <tr>\n",
       "      <th>2057226</th>\n",
       "      <td>1402787</td>\n",
       "      <td>ceskaposta</td>\n",
       "      <td>Chybně směrována vinou pošty (zpět na SPU)</td>\n",
       "      <td>NaN</td>\n",
       "      <td>2017-12-28 09:19:00</td>\n",
       "    </tr>\n",
       "  </tbody>\n",
       "</table>\n",
       "</div>"
      ],
      "text/plain": [
       "         tracking_id    provider                                      status  \\\n",
       "2056991      1402787  ceskaposta                     Vrácena - odběrní lhůta   \n",
       "2057226      1402787  ceskaposta  Chybně směrována vinou pošty (zpět na SPU)   \n",
       "\n",
       "        mapped_status                date  \n",
       "2056991    Stornováno 2017-12-27 10:29:00  \n",
       "2057226           NaN 2017-12-28 09:19:00  "
      ]
     },
     "execution_count": 258,
     "metadata": {},
     "output_type": "execute_result"
    }
   ],
   "source": [
    "new_df[new_df[\"tracking_id\"] == 1402787].sort_values(by='date')"
   ]
  }
 ],
 "metadata": {
  "kernelspec": {
   "display_name": "Python 3",
   "language": "python",
   "name": "python3"
  },
  "language_info": {
   "codemirror_mode": {
    "name": "ipython",
    "version": 3
   },
   "file_extension": ".py",
   "mimetype": "text/x-python",
   "name": "python",
   "nbconvert_exporter": "python",
   "pygments_lexer": "ipython3",
   "version": "3.9.7"
  }
 },
 "nbformat": 4,
 "nbformat_minor": 2
}
